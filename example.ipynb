{
 "cells": [
  {
   "cell_type": "markdown",
   "execution_count": null,
   "metadata": {},
   "outputs": [],
   "source": [
    "## Import dependencies"
   ]
  },
  {
   "cell_type": "code",
   "execution_count": null,
   "metadata": {},
   "outputs": [],
   "source": [
    "# Import all the module dependencies of this script\n",
    "import json\n",
    "import pandas\n",
    "import getpass\n",
    "import requests\n",
    "import sys\n",
    "import msrest\n",
    "\n",
    "# Import the python autorest wrappers\n",
    "from emsapi import emsapi"
   ]
  },
  {
   "cell_type": "markdown",
   "execution_count": null,
   "metadata": {},
   "outputs": [],
   "source": [
    "### System Configuration / Constants"
   ]
  },
  {
   "cell_type": "code",
   "execution_count": null,
   "metadata": {},
   "outputs": [],
   "source": [
    "# The URL of EFOQA EMS API\n",
    "api_url = \"https://ems.efoqa.com/api/\""
   ]
  },
  {
   "cell_type": "markdown",
   "execution_count": null,
   "metadata": {},
   "outputs": [],
   "source": [
    "### Gather User Credentials\n",
    "One day we could pull them from a credential store or key vault."
   ]
  },
  {
   "cell_type": "code",
   "execution_count": null,
   "metadata": {},
   "outputs": [],
   "source": [
    "# Query the user for the credentials for the ems.efoqa.com website.\n",
    "efoqa_user = input('Enter your EFOQA username: ')\n",
    "efoqa_pass = getpass.getpass(prompt = 'Enter your EFOQA password: ')"
   ]
  },
  {
   "cell_type": "markdown",
   "execution_count": null,
   "metadata": {},
   "outputs": [],
   "source": [
    "### API Session set up"
   ]
  },
  {
   "cell_type": "code",
   "execution_count": null,
   "metadata": {},
   "outputs": [],
   "source": [
    "# Use a username and password combination to create an api client\n",
    "myapi = emsapi.create(efoqa_user, efoqa_pass, api_url)"
   ]
  },
  {
   "cell_type": "markdown",
   "execution_count": null,
   "metadata": {},
   "outputs": [],
   "source": [
    "### Query API for EMS Systems"
   ]
  },
  {
   "cell_type": "code",
   "execution_count": null,
   "metadata": {},
   "outputs": [],
   "source": [
    "# Print the systems the user has access to in order to demonstrate the API.\n",
    "systems = myapi.ems_system.get_ems_systems()\n",
    "\n",
    "# Create a list out of the systems list that contains only the information we want.\n",
    "sysList = list(map(lambda system: [system.id, system.name, system.description], systems))\n",
    "df = pandas.DataFrame(sysList,columns=['id', 'name', 'description'])\n",
    "\n",
    "print(\"You have access to the following systems:\")\n",
    "df"
   ]
  },
  {
   "cell_type": "markdown",
   "execution_count": null,
   "metadata": {},
   "outputs": [],
   "source": [
    "### Query API for time-series data\n",
    "\n",
    "Let's pull a little bit of data. We'll pick 'baro-corrected altitude' for a particular flight on the demo system. We'll extract 100 points evenly spread through the entire flight.\n",
    "\n",
    "The altitudeId value below was obtained by using the REST explorer to search for the parameter on EMS Online https://ems.efoqa.com/Docs/Rest/Explorer\n",
    "\n",
    "The output of this block of code should be an altitude chart that looks familiar."
   ]
  },
  {
   "cell_type": "code",
   "execution_count": null,
   "metadata": {},
   "outputs": [],
   "source": [
    "# Baro-corrected altitude\n",
    "altitudeId = \"H4sIAAAAAAAEAG2Q0QuCMBDG34P+B/HdbZVUiApBPQT2kgi9rrn0YM7aZvbnN5JVUvdwfHD34/vu4iPXrbjTs+D7kksDF+DKezRC6ggSvzbmGmHc9z3qF6hVFZ4TMsOnQ5azmjc0AKkNlYz7A/Mm9GusUUkNZa00ijLj+BCTFd6UgApF/XQ68bx4SMHVvkyd1GjX6KytgFER46+FEZBfObOZ2db6eBBJEIlvVGfz4P+LhYRbZ29NyVCzgJD1MgitDIhrrj6+P/h04obj36VPLpuOeVIBAAA=\"\n",
    "\n",
    "# EMS7 - the demo system.\n",
    "emsId = myapi.find_ems_system_id('ems7-app')\n",
    "\n",
    "# A flight that is known to exist\n",
    "flightId = 190\n",
    "\n",
    "# Pull out altitude with 100 samples through the file.\n",
    "query = {\n",
    "    \"select\": [\n",
    "    {\n",
    "      \"analyticId\": altitudeId\n",
    "    }\n",
    "  ],\n",
    "  \"size\": 100\n",
    "}\n",
    "\n",
    "# Execute the API call.\n",
    "altitude = myapi.analytic.get_query_results(emsId, flightId, query)\n",
    "# Offsets accessible using altitude.offsets\n",
    "\n",
    "# Create a new data frame with the altitude in it.\n",
    "altitudeDataFrame = pandas.DataFrame();\n",
    "altitudeDataFrame[\"Altitude\"] = altitude.results[0].values\n",
    "line = altitudeDataFrame.plot.line()"
   ]
  },
  {
   "cell_type": "code",
   "execution_count": null,
   "metadata": {},
   "outputs": [],
   "source": []
  }
 ],
 "metadata": {
  "kernelspec": {
   "display_name": "Python 3.7.6 64-bit ('emsapi': conda)",
   "language": "python",
   "name": "python37664bitemsapiconda4ce23b4dacb4488db7edbd54fc907d60"
  },
  "language_info": {
   "codemirror_mode": {
    "name": "ipython",
    "version": 3
   },
   "file_extension": ".py",
   "mimetype": "text/x-python",
   "name": "python",
   "nbconvert_exporter": "python",
   "pygments_lexer": "ipython3",
   "version": "3.7.6-final"
  }
 },
 "nbformat": 4,
 "nbformat_minor": 2
}