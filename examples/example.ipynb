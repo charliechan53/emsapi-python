{
 "cells": [
  {
   "cell_type": "markdown",
   "metadata": {},
   "source": [
    "## Import dependencies"
   ]
  },
  {
   "cell_type": "code",
   "execution_count": 1,
   "metadata": {},
   "outputs": [],
   "source": [
    "# Import all the module dependencies of this script\n",
    "import json\n",
    "import pandas\n",
    "import getpass\n",
    "import sys\n",
    "import msrest\n",
    "\n",
    "# Import the python autorest wrappers\n",
    "from emsapi import emsapi"
   ]
  },
  {
   "cell_type": "markdown",
   "metadata": {},
   "source": [
    "### System Configuration / Constants"
   ]
  },
  {
   "cell_type": "code",
   "execution_count": 2,
   "metadata": {},
   "outputs": [],
   "source": [
    "# The URL of EFOQA EMS API\n",
    "api_url = \"https://ems.efoqa.com/api/\""
   ]
  },
  {
   "cell_type": "markdown",
   "metadata": {},
   "source": [
    "### Gather User Credentials\n",
    "One day we could pull them from a credential store or key vault."
   ]
  },
  {
   "cell_type": "code",
   "execution_count": 3,
   "metadata": {},
   "outputs": [],
   "source": [
    "# Query the user for the credentials for the ems.efoqa.com website.\n",
    "efoqa_user = input('Enter your EFOQA username: ')\n",
    "efoqa_pass = getpass.getpass(prompt = 'Enter your EFOQA password: ')"
   ]
  },
  {
   "cell_type": "markdown",
   "metadata": {},
   "source": [
    "### API Session set up"
   ]
  },
  {
   "cell_type": "code",
   "execution_count": 4,
   "metadata": {},
   "outputs": [
    {
     "ename": "NameError",
     "evalue": "name 'requests' is not defined",
     "output_type": "error",
     "traceback": [
      "\u001b[1;31m---------------------------------------------------------------------------\u001b[0m",
      "\u001b[1;31mNameError\u001b[0m                                 Traceback (most recent call last)",
      "\u001b[1;32m<ipython-input-4-7e0fc34c3b50>\u001b[0m in \u001b[0;36m<module>\u001b[1;34m\u001b[0m\n\u001b[0;32m      4\u001b[0m \u001b[0mauthorizationUrl\u001b[0m \u001b[1;33m=\u001b[0m \u001b[0mapi_url\u001b[0m \u001b[1;33m+\u001b[0m \u001b[1;34m\"token\"\u001b[0m\u001b[1;33m\u001b[0m\u001b[1;33m\u001b[0m\u001b[0m\n\u001b[0;32m      5\u001b[0m \u001b[0mbody\u001b[0m \u001b[1;33m=\u001b[0m \u001b[1;34m\"grant_type=password&username=\"\u001b[0m \u001b[1;33m+\u001b[0m \u001b[0mefoqa_user\u001b[0m \u001b[1;33m+\u001b[0m\u001b[1;34m\"&password=\"\u001b[0m \u001b[1;33m+\u001b[0m \u001b[0mefoqa_pass\u001b[0m\u001b[1;33m\u001b[0m\u001b[1;33m\u001b[0m\u001b[0m\n\u001b[1;32m----> 6\u001b[1;33m \u001b[0mauthorizationResponse\u001b[0m \u001b[1;33m=\u001b[0m \u001b[0mrequests\u001b[0m\u001b[1;33m.\u001b[0m\u001b[0mpost\u001b[0m\u001b[1;33m(\u001b[0m\u001b[0mauthorizationUrl\u001b[0m\u001b[1;33m,\u001b[0m \u001b[0mbody\u001b[0m\u001b[1;33m,\u001b[0m \u001b[0mverify\u001b[0m\u001b[1;33m=\u001b[0m\u001b[0mcertificatePath\u001b[0m\u001b[1;33m)\u001b[0m\u001b[1;33m\u001b[0m\u001b[1;33m\u001b[0m\u001b[0m\n\u001b[0m\u001b[0;32m      7\u001b[0m \u001b[1;33m\u001b[0m\u001b[0m\n\u001b[0;32m      8\u001b[0m \u001b[1;31m# Describe the results of the test\u001b[0m\u001b[1;33m\u001b[0m\u001b[1;33m\u001b[0m\u001b[1;33m\u001b[0m\u001b[0m\n",
      "\u001b[1;31mNameError\u001b[0m: name 'requests' is not defined"
     ]
    }
   ],
   "source": [
    "# Authenticates with EMS API using the credentials entered above. \n",
    "\n",
    "# This step will call into api and retrieve a bearer token which will be used in subsequent calls.\n",
    "authorizationUrl = api_url + \"token\"\n",
    "body = \"grant_type=password&username=\" + efoqa_user +\"&password=\" + efoqa_pass\n",
    "#authorizationResponse = requests.post(authorizationUrl, body)\n",
    "authorizationResponse = requests.post(authorizationUrl, body)\n",
    "\n",
    "# Describe the results of the test\n",
    "if authorizationResponse.ok:\n",
    "    print(\"Successfully authenticated with the EMS API and retrieved a bearer token.\")\n",
    "else:\n",
    "    print(\"Unable to authenticate with the EMS API.\")\n",
    "    \n",
    "# Set up the autorest session with the basic authentication type using bearer token.\n",
    "from msrest import authentication\n",
    "session = authentication.BasicTokenAuthentication(json.loads(authorizationResponse.text))\n",
    "myapi = emsapi(session, api_url)"
   ]
  },
  {
   "cell_type": "markdown",
   "metadata": {},
   "source": [
    "### Query API for EMS Systems"
   ]
  },
  {
   "cell_type": "code",
   "execution_count": null,
   "metadata": {},
   "outputs": [],
   "source": [
    "# Print the systems the user has access to in order to demonstrate the API.\n",
    "systems = myapi.ems_system.get_ems_systems(verify=certificatePath)\n",
    "\n",
    "# Create a list out of the systems list that contains only the information we want.\n",
    "sysList = list(map(lambda system: [system.id, system.name, system.description], systems))\n",
    "df = pandas.DataFrame(sysList,columns=['id', 'name', 'description'])\n",
    "\n",
    "print(\"You have access to the following systems:\")\n",
    "df"
   ]
  },
  {
   "cell_type": "markdown",
   "metadata": {},
   "source": [
    "### Query API for time-series data\n",
    "\n",
    "Let's pull a little bit of data. We'll pick 'baro-corrected altitude' for a particular flight on the demo system. We'll extract 100 points evenly spread through the entire flight.\n",
    "\n",
    "The altitudeId value below was obtained by using the REST explorer to search for the parameter on EMS Online https://ems.efoqa.com/Docs/Rest/Explorer\n",
    "\n",
    "The output of this block of code should be an altitude chart that looks familiar."
   ]
  },
  {
   "cell_type": "code",
   "execution_count": null,
   "metadata": {},
   "outputs": [],
   "source": [
    "# Baro-corrected altitude\n",
    "altitudeId = \"H4sIAAAAAAAEAG2Q0QuCMBDG34P+B/HdbZVUiApBPQT2kgi9rrn0YM7aZvbnN5JVUvdwfHD34/vu4iPXrbjTs+D7kksDF+DKezRC6ggSvzbmGmHc9z3qF6hVFZ4TMsOnQ5azmjc0AKkNlYz7A/Mm9GusUUkNZa00ijLj+BCTFd6UgApF/XQ68bx4SMHVvkyd1GjX6KytgFER46+FEZBfObOZ2db6eBBJEIlvVGfz4P+LhYRbZ29NyVCzgJD1MgitDIhrrj6+P/h04obj36VPLpuOeVIBAAA=\"\n",
    "# A flight that is known to exist\n",
    "flightId = 190\n",
    "# EMS7 - the demo system.\n",
    "emsId = 5\n",
    "# Pull out altitude with 100 samples through the file.\n",
    "query = {\n",
    "    \"select\": [\n",
    "    {\n",
    "      \"analyticId\": altitudeId\n",
    "    }\n",
    "  ],\n",
    "  \"size\": 100\n",
    "}\n",
    "\n",
    "# Execute the API call.\n",
    "altitude = myapi.analytic.get_query_results(emsId, flightId, query, verify=certificatePath)\n",
    "# Offsets accessible using altitude.offsets\n",
    "\n",
    "# Create a new data frame with the altitude in it.\n",
    "altitudeDataFrame = pandas.DataFrame();\n",
    "altitudeDataFrame[\"Altitude\"] = altitude.results[0].values\n",
    "line = altitudeDataFrame.plot.line()"
   ]
  },
  {
   "cell_type": "code",
   "execution_count": null,
   "metadata": {},
   "outputs": [],
   "source": []
  }
 ],
 "metadata": {
  "kernelspec": {
   "display_name": "Python 3",
   "language": "python",
   "name": "python3"
  },
  "language_info": {
   "codemirror_mode": {
    "name": "ipython",
    "version": 3
   },
   "file_extension": ".py",
   "mimetype": "text/x-python",
   "name": "python",
   "nbconvert_exporter": "python",
   "pygments_lexer": "ipython3",
   "version": "3.7.6-final"
  }
 },
 "nbformat": 4,
 "nbformat_minor": 2
}